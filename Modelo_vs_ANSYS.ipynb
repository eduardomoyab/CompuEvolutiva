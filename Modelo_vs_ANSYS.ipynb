{
  "cells": [
    {
      "cell_type": "markdown",
      "metadata": {
        "id": "BqCvVicSuAca"
      },
      "source": [
        "## **Modelo de batería de litio vs ANSYS**\n",
        "El siquiente código corresponde a un modelo de pack de baterías de litio. \\\\\n",
        "Adicionalmente este código tiene una evaluación del modelo en comparación de simulaciones del programa ANSYS. \\\\\n",
        "\n",
        "Dado un dataset de simulaciones de ansys (53 celdas), para cada simulación se realiza una con el modelo paramétrico, luego se realiza un calculo general del error.\n"
      ]
    },
    {
      "cell_type": "code",
      "execution_count": 1,
      "metadata": {
        "id": "Li6w88d9HFwb"
      },
      "outputs": [],
      "source": [
        "import numpy as np\n",
        "import pandas as pd\n",
        "from scipy import interpolate\n",
        "import os\n",
        "import re\n",
        "import matplotlib.pyplot as plt"
      ]
    },
    {
      "cell_type": "code",
      "execution_count": 2,
      "metadata": {
        "id": "aPg61VmjO4Bh"
      },
      "outputs": [],
      "source": [
        "from sklearn.metrics import mean_absolute_percentage_error"
      ]
    },
    {
      "cell_type": "code",
      "execution_count": 3,
      "metadata": {
        "id": "vvp4er4-LppY"
      },
      "outputs": [],
      "source": [
        "import warnings\n",
        "warnings.filterwarnings('ignore')"
      ]
    },
    {
      "cell_type": "code",
      "execution_count": 17,
      "metadata": {
        "id": "WrAng9BbQHcK"
      },
      "outputs": [],
      "source": [
        "path_data_ansys = \"DATA_ANSYS/\""
      ]
    },
    {
      "cell_type": "code",
      "execution_count": 6,
      "metadata": {
        "id": "glfFN0qQErPx"
      },
      "outputs": [],
      "source": [
        "def mape(actual, pred):\n",
        "    actual, pred = np.array(actual), np.array(pred)\n",
        "    return np.mean(np.abs((actual - pred) / actual)) * 100"
      ]
    },
    {
      "cell_type": "markdown",
      "metadata": {
        "id": "rDk3ed5xvAEa"
      },
      "source": [
        "## 1 .- INDIVIDUOS"
      ]
    },
    {
      "cell_type": "code",
      "execution_count": 7,
      "metadata": {
        "id": "_vEeJKWC7xlN"
      },
      "outputs": [],
      "source": [
        "ind = [ lambda Re, S: S**(-0.6) + 5.0*Re**(-0.23), \\\n",
        "        lambda Re, S: 20.0*(S*Re**0.2)**(-1.1), \\\n",
        "        lambda Re, Pr, S: 0.5*S**(-0.2)*Re**0.63*Pr]"
      ]
    },
    {
      "cell_type": "markdown",
      "metadata": {
        "id": "f12MAZt0twvm"
      },
      "source": [
        "## 1 .- MODELO"
      ]
    },
    {
      "cell_type": "code",
      "execution_count": 8,
      "metadata": {
        "id": "QrgHDoVAtwUS"
      },
      "outputs": [],
      "source": [
        "import numpy as np\n",
        "import pandas as pd\n",
        "import matplotlib.pyplot as plt\n",
        "from scipy import interpolate\n",
        "\n",
        "###############      Funciones de interpolación      #############\n",
        "\n",
        "def interpolate1d(x2predict, xtrain, ytrain):\n",
        "    f = interpolate.interp1d(xtrain, ytrain, fill_value='extrapolate')\n",
        "    return f(x2predict)\n",
        "\n",
        "def q_conductividad(_t):\n",
        "    _t += 273.15\n",
        "    _datos = np.array([22.3, 26.3, 30, 33.8, 37.3]) * 1e-3\n",
        "    _temp = np.array([250, 300, 350, 400, 450]) * 1.\n",
        "    _k = interpolate1d(_t, _temp, _datos)\n",
        "    np.place(_k, _k < 0, 0.0001)\n",
        "    np.place(_k, np.isnan(_k), 0.0001)\n",
        "    return _k\n",
        "\n",
        "def q_reynolds(_v, _t, _D, _d):\n",
        "    _visc = q_viscosidad(_t)\n",
        "    _re = _d * _v * _D / _visc\n",
        "    return _re\n",
        "\n",
        "def q_viscosidad(_t):\n",
        "    _t += 273.15\n",
        "    _datos = np.array([159.6, 184.6, 208.2, 230.1, 250.7]) * 1e-7\n",
        "    _temp = np.array([250, 300, 350, 400, 450])\n",
        "    _visc = interpolate1d(_t, _temp, _datos)\n",
        "    np.place(_visc, np.isnan(_visc), 0)\n",
        "    return _visc\n",
        "\n",
        "def q_densidad(_t):\n",
        "    _datos = np.array([1.293, 1.205, 1.127])\n",
        "    _temp = np.array([0, 20, 40]) * 1.\n",
        "    _d = interpolate1d(_t, _temp, _datos)\n",
        "    np.place(_d, np.isnan(_d), 1.0)\n",
        "    return _d\n",
        "\n",
        "def q_cp(_t):\n",
        "    _t += 273.15\n",
        "    _datos = np.array([1.006, 1.007, 1.009, 1.014, 1.021]) * 1e3\n",
        "    _temp = np.array([250, 300, 350, 400, 450]) * 1.\n",
        "    _cp = interpolate1d(_t, _temp, _datos)\n",
        "    np.place(_cp, np.isnan(_cp), 1.0)\n",
        "    return _cp\n",
        "\n",
        "###############       Ponderadores        ################\n",
        "\n",
        "def f_v(S,D):\n",
        "  return ((D--22.078451156303014)**0.13854518356399528*((S+-0.05273979112677948))**-0.4042472525258598)\n",
        "\n",
        "def f_tf(I,Fo):\n",
        "    output = (((34.861727563296036/Fo))**0.060547458674721236/(0.9882458698876305)**I)\n",
        "    return output\n",
        "\n",
        "def f_p(S,Fo):\n",
        "  return (((34.861727563296036/S))**0.060547458674721236/(0.9882458698876305)**Fo)\n",
        "\n",
        "def f_heat(S):\n",
        "  return 0.713711013825012*(S**2)-2.37719740945025*S+3.82926914078176\n",
        "\n",
        "class Model:\n",
        "    def __init__(self, current=5, cellDiamater=26, separation=1, initFlow=100, \\\n",
        "                 initTemperature=26, col_fluido=2, col_celda=1, n_fluido=3, n_celda=0,\\\n",
        "                 nmax=50):\n",
        "        \"\"\"\n",
        "\t\t\"\"\"\n",
        "        self.current = 1.0 * current                   # Corriente                   [A]\n",
        "        self.cellDiameter = 1.0*cellDiamater           # Diametro Celda              [mm]\n",
        "        self.separation = 1.0*separation               # Separacion                  [adimensional]\n",
        "        self.initFlow = 1.0*initFlow                   # Flujo de entrada del fluido [CFM]\n",
        "        self.initTemperature  = 1.0*initTemperature    # Temperatura incial          [Degree C]\n",
        "        self.col_fluido = col_fluido\n",
        "        self.col_celda = col_celda\n",
        "        self.n_fluido = n_fluido\n",
        "        self.n_celda = n_celda\n",
        "        self.R = 32 * 1e-3      # Resistencia interna [Ohm]\n",
        "        self.largo = 65 * 1e-3  # Largo celdas        [m]\n",
        "        self.e = 15 * 1e-3      # espacio pared-celda [m]\n",
        "        self.referencePressure = 0    # presion de referencia [Pa]\n",
        "        self.errmax = 1e-3      # error corte\n",
        "        self.nmax = nmax        # Iteraciones fluodinamicas\n",
        "\n",
        "        self.sp = dict()        # Variables calculadas\n",
        "        self.vars_vec = dict()\n",
        "        self.err_vec = dict()\n",
        "\n",
        "        self.cellDiameter_m = None\n",
        "        self.initFlow_m3_sg = None\n",
        "        self.individual = dict()\n",
        "\n",
        "\n",
        "    def start(self):\n",
        "        # ------------------------- Inputs Conversion --------------------------------\n",
        "        self.cellDiameter_m = self.cellDiameter / 1000  # Diametro Celda              [mm]->[m]\n",
        "        self.initFlow_m3_sg = self.initFlow * 0.00047   # Flujo de entrada del fluido [CFM]->[m3/s]\n",
        "\n",
        "        # --------------------- Fixed parameters ------------------------------\n",
        "        self.sp['piQuarter'] = np.pi / 4\n",
        "        self.sp['doubleE'] = 2 * self.e\n",
        "        self.sp['maxValue'] = np.finfo(np.float_).max\n",
        "\n",
        "        # Medidas importantes\n",
        "        self.sp['height'] = self.sp['doubleE'] + self.cellDiameter_m*(self.n_fluido + self.separation*self.n_celda)         # Altura del pack\n",
        "        self.sp['sPlusOne'] = self.separation + 1\n",
        "        self.sp['sTerm'] = self.separation / self.sp['sPlusOne']\n",
        "\n",
        "        # Áreas\n",
        "        self.sp['A_vol_in'] = self.separation * self.cellDiameter_m * self.largo     # Area de entrada al volumen de control\n",
        "        self.sp['A_cell_sec'] = self.cellDiameter_m * self.largo                           # Area de sombra de una celda\n",
        "        self.sp['A_battery_in'] = self.sp['height'] * self.largo                                # Area de entrada pack\n",
        "        self.sp['A_cell_manto'] = np.pi * self.cellDiameter_m * self.largo                   # Area de la celda (manto)\n",
        "\n",
        "        # /********************** Condiciones de borde *****************************************/\n",
        "        v_in = self.initFlow_m3_sg/self.sp['A_battery_in']\n",
        "\n",
        "        self.sp['initVelocity'] = f_v(self.separation,self.cellDiameter) * v_in\n",
        "        self.sp['initTemperature'] = f_tf(self.current,self.initFlow) * self.initTemperature\n",
        "        self.sp['lastPressure'] = f_p(self.separation,self.initFlow) + self.referencePressure\n",
        "\n",
        "        # Cálculos de energía\n",
        "        self.sp['qdot_cell'] = (self.current**2) * self.R                                             # Flujo de Calor total celda\n",
        "        self.sp['qdot_vol'] = f_heat(self.separation) * self.sp['qdot_cell']                          # Flujo de Calor total volumen de control\n",
        "        self.sp['heatPerArea'] = self.sp['qdot_cell'] / self.sp['A_cell_manto']\n",
        "        self.sp['m_punto'] = self.sp['A_vol_in'] * self.sp['initVelocity'] * q_densidad(self.sp['initTemperature']) # Flujo masico [kg/s]\n",
        "        self.sp['fluidTempTerm'] = self.sp['qdot_vol'] / self.sp['m_punto']\n",
        "\n",
        "        # /********************** Initialization *****************************************/\n",
        "        self.vars_vec['tf'] = self.sp['initTemperature'] * np.ones(self.col_fluido)      # [Degree C]\n",
        "        self.vars_vec['pf'] = self.sp['lastPressure'] * np.ones(self.col_fluido)          # [Pa]\n",
        "        self.vars_vec['vf'] = self.sp['initVelocity'] * np.ones(self.col_fluido)       # [m/s]\n",
        "        self.vars_vec['vmf'] = self.sp['initVelocity'] * self.sp['sTerm'] * np.ones(self.col_fluido)      # [m/s]\n",
        "        self.vars_vec['df'] = q_densidad(self.sp['initTemperature'])  * np.ones(self.col_fluido)                       # [kg/m3]\n",
        "        self.vars_vec['tc'] = self.sp['initTemperature'] * np.ones(self.col_celda)       # [Degree C]\n",
        "        self.vars_vec['ff'] = 0.0 * np.ones(self.col_fluido)                       # [N]\n",
        "        self.vars_vec['rem'] = 1.0 * np.ones(self.col_celda)                       # [adimensional]\n",
        "        self.vars_vec['prandtl'] = 0.0 * np.ones(self.col_celda)                       # [adimensional]\n",
        "\n",
        "        self.vars_vec['cdrag'] = 0.0 * np.ones(self.col_celda)                      # [adimensional]\n",
        "        self.vars_vec['frctionFactor'] = 0.0 * np.ones(self.col_celda)                        # [adimensional]\n",
        "        self.vars_vec['nusselt'] = 0.0 * np.ones(self.col_celda)                        # [adimensional]\n",
        "\n",
        "        self.vars_vec['fluidK'] = q_conductividad(self.vars_vec['tf'][0]) * np.ones(self.col_celda)  # [W/m k]\n",
        "\n",
        "        # /********************** Errores en columnas ************************************/\n",
        "        self.err_vec['cellTempError'] = self.sp['maxValue'] * np.ones(self.col_celda)\n",
        "        self.err_vec['TFError'] = self.sp['maxValue'] * np.ones(self.col_fluido)\n",
        "        self.err_vec['TFError'][0] = 0.0\n",
        "        self.err_vec['velocityError'] = self.sp['maxValue'] * np.ones(self.col_fluido)\n",
        "        self.err_vec['pressureError'] = self.sp['maxValue'] * np.ones(self.col_celda)\n",
        "\n",
        "    def evolve(self):\n",
        "        for _ in range(self.nmax):\n",
        "            for i in range(self.col_celda):\n",
        "                actualVF = self.vars_vec['vf'][i]\n",
        "                actualVMF = self.sp['sTerm'] * actualVF\n",
        "                self.vars_vec['vmf'][i] = actualVMF\n",
        "                actualTF = self.vars_vec['tf'][i]\n",
        "                nextTF = self.vars_vec['tf'][i]\n",
        "                actualTMF = (actualTF+nextTF)/2\n",
        "                actualDF = self.vars_vec['df'][i]\n",
        "                i2 = i+1\n",
        "                self.vars_vec['rem'][i] = q_reynolds(actualVMF, actualTMF, self.cellDiameter_m, actualDF)\n",
        "                self.vars_vec['prandtl'][i] = q_viscosidad(actualTMF) * q_cp(actualTMF) / q_conductividad(actualTMF)\n",
        "                actualRem = self.vars_vec['rem'][i]\n",
        "                actualprandtl = self.vars_vec['prandtl'][i]\n",
        "\n",
        "                # ***************************************** Calculo de la presion **************************************\n",
        "                frictionFactor = self.individual['computeFrictionFactor'](actualRem, self.separation)\n",
        "                self.vars_vec['frctionFactor'][i] = frictionFactor\n",
        "                nextPF = self.vars_vec['pf'][i2]\n",
        "                actualPF = nextPF + 0.5 * frictionFactor * actualDF * (actualVMF ** 2)\n",
        "                self._setValue(self.vars_vec['pf'], i, self.err_vec['pressureError'], actualPF)\n",
        "\n",
        "                # ***************************************** Calculo de la velocidad ************************************\n",
        "                cdrag = self.individual['computeDragCoefficient'](actualRem, self.separation)\n",
        "                self.vars_vec['cdrag'][i] = cdrag\n",
        "                actualVFSquared = (actualVF ** 2)\n",
        "                actualVMFSquared = (actualVMF ** 2)\n",
        "                actualFF_cell = 0.5 * self.sp['A_cell_sec']  * actualDF * actualVMFSquared * cdrag\n",
        "                actualFF_vol = 2*actualFF_cell\n",
        "                self.vars_vec['ff'][i] = actualFF_vol\n",
        "                nextVF = ((self.sp['A_vol_in'] * (actualPF - nextPF) - actualFF_vol) / self.sp['m_punto']) + actualVF\n",
        "                nextVFSquared = (nextVF ** 2)\n",
        "                self._setValue(self.vars_vec['vf'], i2, self.err_vec['velocityError'], nextVF)\n",
        "\n",
        "                # ********************************** Calculo de la temperatura fluido **********************************\n",
        "                nextTF = actualTF + (self.sp['fluidTempTerm'] - 0.5 * (nextVFSquared - actualVFSquared)) / q_cp(actualTF)\n",
        "                self._setValue(self.vars_vec['tf'], i2, self.err_vec['TFError'], nextTF)\n",
        "\n",
        "                # ***************************************** Calculo de la densidad *************************************\n",
        "                self.vars_vec['df'][i2] = q_densidad(nextTF)\n",
        "\n",
        "                # ********************************** Calculo de temperatura de celda ************************************\n",
        "                actualTMF = (actualTF + nextTF) / 2\n",
        "                nu = self.individual['computeNusseltNumber'](actualRem, actualprandtl, self.separation)\n",
        "                self.vars_vec['nusselt'][i] = nu\n",
        "                iniFluidK = q_conductividad(actualTF)\n",
        "                self.vars_vec['fluidK'][i] = iniFluidK\n",
        "                h = nu * iniFluidK / self.cellDiameter_m # [W m^-2 K^-1]\n",
        "                self._setValue(self.vars_vec['tc'], i, self.err_vec['cellTempError'], self.sp['heatPerArea'] / h + actualTMF)\n",
        "\n",
        "            # ********************************** If convergence, stop iterating ************************************\n",
        "            flag1 = self.err_vec['cellTempError'].max() <= self.errmax\n",
        "            flag2 = self.err_vec['TFError'].max() <= self.errmax\n",
        "            flag3 = self.err_vec['pressureError'].max() <= self.errmax\n",
        "            flag4 = self.err_vec['velocityError'].max() <= self.errmax\n",
        "            flag12 = np.logical_and(flag1, flag2)\n",
        "            flag34 = np.logical_and(flag3, flag4)\n",
        "            if np.logical_and(flag12, flag34):\n",
        "                break\n",
        "\n",
        "        # ********************************** Guardar ************************************\n",
        "        results_dict = {}\n",
        "        results_dict['cdrag'] = self.vars_vec['cdrag']\n",
        "        results_dict['frctionFactor'] = self.vars_vec['frctionFactor']\n",
        "        results_dict['nusselt'] = self.vars_vec['nusselt']\n",
        "        results_dict['vf'] = self.vars_vec['vf']\n",
        "        results_dict['pf'] = self.vars_vec['pf']\n",
        "        results_dict['tc'] = self.vars_vec['tc']\n",
        "        results_dict['tf'] = self.vars_vec['tf']\n",
        "        return results_dict\n",
        "\n",
        "    def reset(self):\n",
        "        self.__init__()\n",
        "\n",
        "    def _setValue(self, vector, i, errorArray, value):\n",
        "        errorArray[i] = vector[i]\n",
        "        vector[i] = value\n",
        "        errorArray[i] = np.abs((errorArray[i] - value) / value)\n",
        "\n",
        "    def load_individual(self, cdrag_tree, ffriction_tree, nnusselt_tree):\n",
        "        '''\n",
        "        :param cdrag_tree:     inputs(5) (reynolds, separation, index, normalizedArea, normalizedDensity)\n",
        "        :param ffriction_tree: inputs(5) (reynolds, separation, index, normalizedVelocity, normalizedDensity)\n",
        "        :param nnusselt_tree:  inputs(4) (reynolds, prandtl, separation, index)\n",
        "        '''\n",
        "        self.individual['computeDragCoefficient'] = cdrag_tree\n",
        "        self.individual['computeFrictionFactor']  = ffriction_tree\n",
        "        self.individual['computeNusseltNumber']   = nnusselt_tree\n",
        "\n",
        "\n",
        "def pow2(x):\n",
        "    return x**2"
      ]
    },
    {
      "cell_type": "markdown",
      "metadata": {
        "id": "E2tPUouGHvy3"
      },
      "source": [
        "## 2 .- FUNCIONES"
      ]
    },
    {
      "cell_type": "code",
      "execution_count": 9,
      "metadata": {
        "id": "MFGtwG5nlkn6"
      },
      "outputs": [],
      "source": [
        "def get_ansys_mf_all():\n",
        "  df_ansys_all = pd.DataFrame()\n",
        "  df_mf_all = pd.DataFrame()\n",
        "  for ncells in [25,53,74,102]:\n",
        "    print('obteniendo datos de somulación: ' + str(ncells) + ' celdas')\n",
        "    df_ansys, df_mf = get_ansys_mf(ncells)\n",
        "    df_ansys_all = df_ansys_all.append(df_ansys, ignore_index=True)\n",
        "    df_mf_all = df_mf_all.append(df_mf, ignore_index=True)\n",
        "  return df_ansys_all, df_mf_all"
      ]
    },
    {
      "cell_type": "code",
      "execution_count": 10,
      "metadata": {
        "id": "WvnqIfUAT-bh"
      },
      "outputs": [],
      "source": [
        "def get_ansys_mf(n_celdas):\n",
        "  col_fluido=int((n_celdas+3)/7)\n",
        "  col_celda=int(col_fluido-1)\n",
        "  # ANSYS\n",
        "  df_ansys = get_data_simple(get_dataFrame(path_data_ansys + 'entradas_1_'+str(n_celdas)+'_celdas.csv'))\n",
        "  # MF\n",
        "  df_mf = df_ansys[['Current'\t,'K','Flujo','t_viento','Diametro']]\n",
        "  for i in range(col_fluido):\n",
        "    num_string = str(i+1)\n",
        "    if len(num_string)<2:\n",
        "      num_string = '0' + num_string\n",
        "    df_mf['V' + num_string] = None\n",
        "    df_mf['P' + num_string] = None\n",
        "    df_mf['TF' + num_string] = None\n",
        "    if i != (col_fluido-1):\n",
        "      df_mf['TC' + num_string] = None\n",
        "\n",
        "  for index, row in df_mf.iterrows():\n",
        "    mdl = Model(current=row['Current'], cellDiamater=row['Diametro'], separation=row['K'], initFlow=row['Flujo'], initTemperature=row['t_viento'], col_fluido=col_fluido, col_celda=col_celda, n_fluido=4, n_celda=3, nmax=50)\n",
        "    mdl.load_individual(*ind)\n",
        "    mdl.start()\n",
        "    results_dict = mdl.evolve()\n",
        "    V_array = results_dict['vf']\n",
        "    P_array = results_dict['pf']\n",
        "    T_array = results_dict['tf']\n",
        "    TC_array = results_dict['tc']\n",
        "    for i in range(col_fluido):\n",
        "      num_string = str(i+1)\n",
        "      if len(num_string)<2:\n",
        "        num_string = '0' + num_string\n",
        "      df_mf.at[index,'V' + num_string] = V_array[i]\n",
        "      df_mf.at[index,'P' + num_string] = P_array[i]\n",
        "      df_mf.at[index,'TF' + num_string] = T_array[i]\n",
        "      if i != (col_fluido-1):\n",
        "        df_mf.at[index,'TC' + num_string] = TC_array[i]\n",
        "  return df_ansys, df_mf"
      ]
    },
    {
      "cell_type": "code",
      "execution_count": 11,
      "metadata": {
        "id": "o6wLhRaS3qoE"
      },
      "outputs": [],
      "source": [
        "def get_mf(n_celdas):\n",
        "  col_fluido=int((n_celdas+3)/7)\n",
        "  col_celda=int(col_fluido-1)\n",
        "  # ANSYS\n",
        "  df_ansys = get_data_simple(get_dataFrame(path_data_ansys + 'entradas_1_'+str(n_celdas)+'_celdas.csv'))\n",
        "  # MF\n",
        "  df_mf = df_ansys[['Current'\t,'K','Flujo','t_viento','Diametro']]\n",
        "  for i in range(col_fluido):\n",
        "    num_string = str(i+1)\n",
        "    if len(num_string)<2:\n",
        "      num_string = '0' + num_string\n",
        "    df_mf['V' + num_string] = None\n",
        "    df_mf['P' + num_string] = None\n",
        "    df_mf['TF' + num_string] = None\n",
        "    if i != (col_fluido-1):\n",
        "      df_mf['TC' + num_string] = None\n",
        "      df_mf['cdrag' + num_string] = None\n",
        "      df_mf['frctionFactor' + num_string] = None\n",
        "      df_mf['nusselt' + num_string] = None\n",
        "\n",
        "  for index, row in df_mf.iterrows():\n",
        "    mdl = Model(current=row['Current'], cellDiamater=row['Diametro'], separation=row['K'], initFlow=row['Flujo'], initTemperature=row['t_viento'], col_fluido=col_fluido, col_celda=col_celda, n_fluido=4, n_celda=3, nmax=10)\n",
        "    mdl.load_individual(*ind)\n",
        "    mdl.start()\n",
        "    results_dict = mdl.evolve()\n",
        "    V_array = results_dict['vf']\n",
        "    P_array = results_dict['pf']\n",
        "    T_array = results_dict['tf']\n",
        "    TC_array = results_dict['tc']\n",
        "    CD_array = results_dict['cdrag']\n",
        "    FF_array = results_dict['frctionFactor']\n",
        "    NU_array = results_dict['nusselt']\n",
        "    for i in range(col_fluido):\n",
        "      num_string = str(i+1)\n",
        "      if len(num_string)<2:\n",
        "        num_string = '0' + num_string\n",
        "      df_mf.at[index,'V' + num_string] = V_array[i]\n",
        "      df_mf.at[index,'P' + num_string] = P_array[i]\n",
        "      df_mf.at[index,'TF' + num_string] = T_array[i]\n",
        "      if i != (col_fluido-1):\n",
        "        df_mf.at[index,'TC' + num_string] = TC_array[i]\n",
        "        df_mf.at[index,'cdrag' + num_string] = CD_array[i]\n",
        "        df_mf.at[index,'frctionFactor' + num_string] = FF_array[i]\n",
        "        df_mf.at[index,'nusselt' + num_string] = NU_array[i]\n",
        "  return df_mf"
      ]
    },
    {
      "cell_type": "code",
      "execution_count": 12,
      "metadata": {
        "id": "GugMcoI7eNNg"
      },
      "outputs": [],
      "source": [
        "def get_dataFrame(namefile):\n",
        "  data = pd.read_csv(namefile, header=6)\n",
        "  colCoded = data.columns.tolist()\n",
        "  nameCode = pd.read_csv(namefile, header=3,nrows=1)\n",
        "  colName = [[col.replace(d+' - ','') for i,col in enumerate(nameCode) if re.search(d, col)] for d in colCoded]\n",
        "  colName = [temp[0] if temp else 'Name' for temp in colName]\n",
        "  colName = [temp if (' ' not in temp) else temp[:temp.index(' ')] for temp in colName]\n",
        "  data.rename(columns=dict(zip(colCoded, colName)), inplace=True)\n",
        "  data.dropna(inplace=True)\n",
        "  data.drop_duplicates(inplace=True)\n",
        "  data = data[data['Flujo']>10]\n",
        "  data = data[data['Current']>0]\n",
        "  data.reset_index(inplace=True)\n",
        "  return data\n",
        "\n",
        "def get_data_simple(df):\n",
        "  df_output = df[['celda1.ny','celda2.ny','celda1.nx','celda2.nx','Current', 'K', 'Flujo', 't_viento', 'Diametro']]\n",
        "  for string in ['V','P','TF','TC']:\n",
        "    if 'T' in string:\n",
        "      df_aux = df.filter(regex=(string + \"+\\d\")) - 273.15\n",
        "    else:\n",
        "      df_aux = df.filter(regex=(string + \"+\\d\"))\n",
        "    df_output = pd.concat([df_output,df_aux], axis=1)\n",
        "  df_output = df_output[ df_output['Flujo'] > 10]\n",
        "  df_output.reset_index(drop=True,inplace=True)\n",
        "  return df_output"
      ]
    },
    {
      "cell_type": "code",
      "execution_count": 13,
      "metadata": {
        "id": "2bPBX-8YH0LD"
      },
      "outputs": [],
      "source": [
        "def interpolate1d(x2predict, xtrain, ytrain):\n",
        "    f = interpolate.interp1d(xtrain, ytrain, fill_value='extrapolate')\n",
        "    return f(x2predict)\n",
        "    #return np.array(np.interp(x2predict, xtrain, ytrain))\n",
        "\n",
        "def q_conductividad(_t):\n",
        "    _t += 273.15\n",
        "    _datos = np.array([22.3, 26.3, 30, 33.8, 37.3]) * 1e-3\n",
        "    _temp = np.array([250, 300, 350, 400, 450]) * 1.\n",
        "    _k = interpolate1d(_t, _temp, _datos)\n",
        "    np.place(_k, _k < 0, 0.0001)\n",
        "    np.place(_k, np.isnan(_k), 0.0001)\n",
        "    return _k\n",
        "\n",
        "def q_reynolds(_v, _t, _D, _d):\n",
        "    _visc = q_viscosidad(_t)\n",
        "    _re = _d * _v * _D / _visc\n",
        "    return _re\n",
        "\n",
        "def q_viscosidad(_t):\n",
        "    _t += 273.15\n",
        "    _datos = np.array([159.6, 184.6, 208.2, 230.1, 250.7]) * 1e-7\n",
        "    _temp = np.array([250, 300, 350, 400, 450])\n",
        "    _visc = interpolate1d(_t, _temp, _datos)\n",
        "    np.place(_visc, np.isnan(_visc), 0)\n",
        "    return _visc\n",
        "\n",
        "def q_paramdrag(_s):\n",
        "    _b1 = np.array([0.039, 0.028, 0.027, 0.028, 0.005])\n",
        "    _b2 = np.array([3.270, 2.416, 2.907, 2.974, 2.063])\n",
        "    _x = np.array([0.10, 0.25, 0.50, 0.75, 1.00])\n",
        "    _a1 = interpolate1d(_s, _x, _b1)\n",
        "    _a2 = interpolate1d(_s, _x, _b2)\n",
        "    if _s > _x[-1]:\n",
        "        _a1 = _b1[-1]\n",
        "        _a2 = _b2[-1]\n",
        "    if _a1 < 0:\n",
        "        _a1 = 0\n",
        "    if _a2 < 0:\n",
        "        _a2 = 0\n",
        "    return _a1, _a2\n",
        "\n",
        "def q_densidad(_t):\n",
        "    _datos = np.array([1.293, 1.205, 1.127])\n",
        "    _temp = np.array([0, 20, 40]) * 1.\n",
        "    _d = interpolate1d(_t, _temp, _datos)\n",
        "    np.place(_d, np.isnan(_d), 1.0)\n",
        "    return _d\n",
        "\n",
        "def q_cp(_t):\n",
        "    _t += 273.15\n",
        "    _datos = np.array([1.006, 1.007, 1.009, 1.014, 1.021]) * 1e3\n",
        "    _temp = np.array([250, 300, 350, 400, 450]) * 1.\n",
        "    _cp = interpolate1d(_t, _temp, _datos)\n",
        "    np.place(_cp, np.isnan(_cp), 1.0)\n",
        "    return _cp"
      ]
    },
    {
      "cell_type": "code",
      "execution_count": 14,
      "metadata": {
        "id": "e4QOtLI5WAVK"
      },
      "outputs": [],
      "source": [
        "def get_MAE_dict(df_ansys,df_mf, axis=None, std=False):\n",
        "  dict_error = {}\n",
        "  for output in ['V','P','TF','TC']:\n",
        "    m_ansys = df_ansys.filter(regex=(output + \"+\\d\")).values\n",
        "    m_mf = df_mf.filter(regex=(output + \"+\\d\")).values\n",
        "    if std:\n",
        "      dict_error[output] = np.std(np.abs(m_ansys - m_mf).astype(float), axis=axis)\n",
        "    else:\n",
        "      dict_error[output] = np.mean(np.abs(m_ansys - m_mf).astype(float), axis=axis)\n",
        "  return dict_error"
      ]
    },
    {
      "cell_type": "code",
      "execution_count": 15,
      "metadata": {
        "id": "UK5prWq9WAVs"
      },
      "outputs": [],
      "source": [
        "def get_MAPE_dict(df_ansys,df_mf, axis=None, std=False ):\n",
        "  dict_error = {}\n",
        "  for output in ['V','P','TF','TC']:\n",
        "    m_ansys = df_ansys.filter(regex=(output + \"+\\d\")).values\n",
        "    m_mf = df_mf.filter(regex=(output + \"+\\d\")).values\n",
        "    #dict_error[output] = mean_absolute_percentage_error(m_ansys,m_mf)\n",
        "    if std:\n",
        "      dict_error[output] = np.std(np.abs((m_ansys - m_mf) / m_ansys).astype(float), axis=axis) * 100\n",
        "    else:\n",
        "      dict_error[output] = np.mean(np.abs((m_ansys - m_mf) / m_ansys).astype(float), axis=axis) * 100\n",
        "  return dict_error"
      ]
    },
    {
      "cell_type": "markdown",
      "metadata": {
        "id": "BeO48KtSI2h8"
      },
      "source": [
        "## 4.- Correr modelo"
      ]
    },
    {
      "cell_type": "code",
      "execution_count": 18,
      "metadata": {
        "id": "xwVcLpAnqLgz"
      },
      "outputs": [],
      "source": [
        "df_ansys, df_mf = get_ansys_mf(53)"
      ]
    },
    {
      "cell_type": "code",
      "execution_count": 19,
      "metadata": {
        "colab": {
          "base_uri": "https://localhost:8080/"
        },
        "id": "xiWXMtXEkkc3",
        "outputId": "503710ab-e2e5-404d-cc07-5f6cdd13ccbf"
      },
      "outputs": [
        {
          "data": {
            "text/plain": [
              "{'V': array([ 0.7980912 ,  4.76288122,  9.47896761, 11.75281876, 13.73920147,\n",
              "        15.96679852, 17.03710112, 14.74151946]),\n",
              " 'P': array([ 30.34442056,  33.80840612,  35.65094605,  38.50180727,\n",
              "         41.35833518,  44.99352799,  53.04799531, 654.70839177]),\n",
              " 'TF': array([1.86125614, 2.1940916 , 2.34993791, 2.33734632, 2.17797497,\n",
              "        2.00551756, 1.8913064 , 1.89520708]),\n",
              " 'TC': array([1.9990727 , 1.77434672, 2.03877224, 2.21869264, 2.53271182,\n",
              "        2.88883673, 3.25401013])}"
            ]
          },
          "execution_count": 19,
          "metadata": {},
          "output_type": "execute_result"
        }
      ],
      "source": [
        "get_MAPE_dict(df_ansys, df_mf, axis=0)"
      ]
    },
    {
      "cell_type": "code",
      "execution_count": 20,
      "metadata": {
        "id": "KNrgh8Egxziy"
      },
      "outputs": [],
      "source": [
        "dict_mae = get_MAE_dict(df_ansys, df_mf)\n",
        "dict_mape = get_MAPE_dict(df_ansys, df_mf)"
      ]
    },
    {
      "cell_type": "code",
      "execution_count": 21,
      "metadata": {
        "id": "SMZ6gI9iuYZb"
      },
      "outputs": [],
      "source": [
        "dict_mae_std = get_MAE_dict(df_ansys, df_mf, std=True)\n",
        "dict_mape_std = get_MAPE_dict(df_ansys, df_mf, std=True)"
      ]
    },
    {
      "cell_type": "code",
      "execution_count": 22,
      "metadata": {
        "colab": {
          "base_uri": "https://localhost:8080/"
        },
        "id": "6DltGpW0C0lV",
        "outputId": "c2143d3f-dfb6-4e3c-fb49-0679441b72ed"
      },
      "outputs": [
        {
          "data": {
            "text/plain": [
              "{'V': 0.3723385007926705,\n",
              " 'P': 8.336095586500425,\n",
              " 'TF': 0.4669915274415107,\n",
              " 'TC': 0.8557110378002664}"
            ]
          },
          "execution_count": 22,
          "metadata": {},
          "output_type": "execute_result"
        }
      ],
      "source": [
        "dict_mae"
      ]
    },
    {
      "cell_type": "code",
      "execution_count": 23,
      "metadata": {
        "colab": {
          "base_uri": "https://localhost:8080/"
        },
        "id": "gHBqfFlFueuJ",
        "outputId": "2af4da8b-131b-4107-8254-58415b6bc1ca"
      },
      "outputs": [
        {
          "data": {
            "text/plain": [
              "{'V': 0.28760032612604663,\n",
              " 'P': 8.303621918831876,\n",
              " 'TF': 0.43231385762177793,\n",
              " 'TC': 0.9434040967105007}"
            ]
          },
          "execution_count": 23,
          "metadata": {},
          "output_type": "execute_result"
        }
      ],
      "source": [
        "dict_mae_std"
      ]
    },
    {
      "cell_type": "code",
      "execution_count": 24,
      "metadata": {
        "colab": {
          "base_uri": "https://localhost:8080/"
        },
        "id": "dXBpcEjMC0_c",
        "outputId": "7487e2f2-09e6-4286-a981-934cebdeca6d"
      },
      "outputs": [
        {
          "data": {
            "text/plain": [
              "{'V': 11.034672419419177,\n",
              " 'P': 116.55172878064894,\n",
              " 'TF': 2.089079746881226,\n",
              " 'TC': 2.386634710657113}"
            ]
          },
          "execution_count": 24,
          "metadata": {},
          "output_type": "execute_result"
        }
      ],
      "source": [
        "dict_mape"
      ]
    },
    {
      "cell_type": "code",
      "execution_count": 25,
      "metadata": {
        "colab": {
          "base_uri": "https://localhost:8080/"
        },
        "id": "UOchOykpug0L",
        "outputId": "4baca2fc-ba62-4b9c-8fe7-e89c13436b43"
      },
      "outputs": [
        {
          "data": {
            "text/plain": [
              "{'V': 9.79031174676631,\n",
              " 'P': 486.4953535540975,\n",
              " 'TF': 1.6293710815110107,\n",
              " 'TC': 2.047334618975015}"
            ]
          },
          "execution_count": 25,
          "metadata": {},
          "output_type": "execute_result"
        }
      ],
      "source": [
        "dict_mape_std"
      ]
    },
    {
      "cell_type": "markdown",
      "metadata": {
        "id": "7sJOS5TX1GLT"
      },
      "source": [
        "## 5.- Análisis"
      ]
    },
    {
      "cell_type": "markdown",
      "metadata": {
        "id": "bD2ZesXYx8dp"
      },
      "source": [
        "### 5.1.- Error general"
      ]
    },
    {
      "cell_type": "markdown",
      "metadata": {
        "id": "x7ubqXDaNXDK"
      },
      "source": [
        "#### MAE"
      ]
    },
    {
      "cell_type": "code",
      "execution_count": 26,
      "metadata": {
        "colab": {
          "base_uri": "https://localhost:8080/"
        },
        "id": "aDC_LogJVshE",
        "outputId": "dff358ce-6fbc-4859-fc1e-e1013c73c67c"
      },
      "outputs": [
        {
          "name": "stdout",
          "output_type": "stream",
          "text": [
            "MAE velocidad: 0.37 [m/s]\n",
            "MAE presión: 8.34 [Pa]\n",
            "MAE temperatura de fluido: 0.47 [°C]\n",
            "MAE temperatura de celda: 0.86 [°C]\n"
          ]
        }
      ],
      "source": [
        "print('MAE velocidad: ' + str(round(dict_mae['V'], 2)) + ' [m/s]')\n",
        "print('MAE presión: ' + str(round(dict_mae['P'], 2)) + ' [Pa]')\n",
        "print('MAE temperatura de fluido: ' + str(round(dict_mae['TF'], 2)) + ' [°C]')\n",
        "print('MAE temperatura de celda: ' + str(round(dict_mae['TC'],2)) + ' [°C]')"
      ]
    },
    {
      "cell_type": "markdown",
      "metadata": {
        "id": "VDhUEkoDOQ-Q"
      },
      "source": [
        "#### MAPE"
      ]
    },
    {
      "cell_type": "code",
      "execution_count": 27,
      "metadata": {
        "colab": {
          "base_uri": "https://localhost:8080/"
        },
        "id": "I68ctMYpF3YO",
        "outputId": "fb047bd7-f88d-4ef1-a5e5-04e6ceddfab8"
      },
      "outputs": [
        {
          "name": "stdout",
          "output_type": "stream",
          "text": [
            "MAPE velocidad: 11.03 [%]\n",
            "MAPE presión: 116.55 [%]\n",
            "MAPE temperatura de fluido: 2.09 [%]\n",
            "MAPE temperatura de celda: 2.39 [%]\n"
          ]
        }
      ],
      "source": [
        "print('MAPE velocidad: ' + str(round(dict_mape['V'], 2)) + ' [%]')\n",
        "print('MAPE presión: ' + str(round(dict_mape['P'], 2)) + ' [%]')\n",
        "print('MAPE temperatura de fluido: ' + str(round(dict_mape['TF'], 2)) + ' [%]')\n",
        "print('MAPE temperatura de celda: ' + str(round(dict_mape['TC'],2)) + ' [%]')"
      ]
    },
    {
      "cell_type": "markdown",
      "metadata": {
        "id": "sVhHNLUg6Bwz"
      },
      "source": [
        "### 5.2.- Error por columna"
      ]
    },
    {
      "cell_type": "code",
      "execution_count": 28,
      "metadata": {
        "id": "GFO9LWaGpmqt"
      },
      "outputs": [],
      "source": [
        "#nombre_columnas = 'Battery pack column'\n",
        "nombre_columnas = 'Columna del pack'"
      ]
    },
    {
      "cell_type": "markdown",
      "metadata": {
        "id": "dS8l7YvTQDAW"
      },
      "source": [
        "#### MAE"
      ]
    },
    {
      "cell_type": "code",
      "execution_count": 29,
      "metadata": {
        "id": "Aavtn3Auic_7"
      },
      "outputs": [],
      "source": [
        "MAE_dict = get_MAE_dict(df_ansys, df_mf, axis=0)\n",
        "MAE_dict_std = get_MAE_dict(df_ansys, df_mf, axis=0, std=True)"
      ]
    },
    {
      "cell_type": "markdown",
      "metadata": {
        "id": "Pola9KMGTLYj"
      },
      "source": [
        "##### **Velocidad**"
      ]
    },
    {
      "cell_type": "code",
      "execution_count": 30,
      "metadata": {
        "colab": {
          "base_uri": "https://localhost:8080/",
          "height": 321
        },
        "id": "PgOepLAgsMWQ",
        "outputId": "f5abae03-9ff1-49f7-a812-f722392539da"
      },
      "outputs": [
        {
          "data": {
            "image/png": "[encoded data removed]",
            "text/plain": [
              "<Figure size 600x300 with 1 Axes>"
            ]
          },
          "metadata": {},
          "output_type": "display_data"
        }
      ],
      "source": [
        "fig, ax = plt.subplots(1, 1, figsize=(6,3))\n",
        "plt.errorbar(list(range(1, (len(MAE_dict['V']))*2 +1, 2)), MAE_dict['V'], yerr=MAE_dict_std['V']/2, fmt='.k', ecolor='gray', elinewidth=1.5, capsize=5, capthick=1.5)\n",
        "ax.set_xlabel(nombre_columnas,fontsize=14)\n",
        "ax.set_ylabel('MAE [m/s]',fontsize=14)\n",
        "ax.set_ylim((0,0.8))\n",
        "plt.show()"
      ]
    },
    {
      "cell_type": "markdown",
      "metadata": {
        "id": "OWw1ZI4SU-hJ"
      },
      "source": [
        "##### **Presión**"
      ]
    },
    {
      "cell_type": "code",
      "execution_count": 31,
      "metadata": {
        "colab": {
          "base_uri": "https://localhost:8080/",
          "height": 321
        },
        "id": "gB6sFh41s5T5",
        "outputId": "cd770d14-44fa-4c16-9700-354c14e6bf76"
      },
      "outputs": [
        {
          "data": {
            "image/png": "[encoded data removed]",
            "text/plain": [
              "<Figure size 600x300 with 1 Axes>"
            ]
          },
          "metadata": {},
          "output_type": "display_data"
        }
      ],
      "source": [
        "fig, ax = plt.subplots(1, 1, figsize=(6,3))\n",
        "plt.errorbar(list(range(1, (len(MAE_dict['P']))*2 +1, 2)), MAE_dict['P'], yerr=MAE_dict_std['P']/2, fmt='.k', ecolor='gray', elinewidth=1.5, capsize=5, capthick=1.5)\n",
        "ax.set_xlabel(nombre_columnas,fontsize=14)\n",
        "ax.set_ylabel('MAE [Pa]',fontsize=14)\n",
        "ax.set_ylim((0,20))\n",
        "plt.show()"
      ]
    },
    {
      "cell_type": "markdown",
      "metadata": {
        "id": "9JC0tjcHVUsp"
      },
      "source": [
        "##### **Temperatura de fluido**"
      ]
    },
    {
      "cell_type": "code",
      "execution_count": 32,
      "metadata": {
        "colab": {
          "base_uri": "https://localhost:8080/",
          "height": 316
        },
        "id": "bg8fRBfD9gsR",
        "outputId": "c607745d-1d6d-4bcf-b1ea-fdeaaa9e2f54"
      },
      "outputs": [
        {
          "data": {
            "image/png": "[encoded data removed]",
            "text/plain": [
              "<Figure size 600x300 with 1 Axes>"
            ]
          },
          "metadata": {},
          "output_type": "display_data"
        }
      ],
      "source": [
        "fig, ax = plt.subplots(1, 1, figsize=(6,3))\n",
        "plt.errorbar(list(range(1, (len(MAE_dict['TF']))*2 +1, 2)), MAE_dict['TF'], yerr=MAE_dict_std['TF']/2, fmt='.k', ecolor='gray', elinewidth=1.5, capsize=5, capthick=1.5)\n",
        "ax.set_xlabel(nombre_columnas,fontsize=14)\n",
        "ax.set_ylabel('MAE [°C]',fontsize=14)\n",
        "ax.set_ylim((0,0.9))\n",
        "plt.show()"
      ]
    },
    {
      "cell_type": "markdown",
      "metadata": {
        "id": "syI6Y0IHVVIy"
      },
      "source": [
        "##### **Temperatura de celda**"
      ]
    },
    {
      "cell_type": "code",
      "execution_count": 33,
      "metadata": {
        "colab": {
          "base_uri": "https://localhost:8080/",
          "height": 321
        },
        "id": "T6Eip1An9aPO",
        "outputId": "e2a82f40-5f5a-43ec-ef34-9f6620500be5"
      },
      "outputs": [
        {
          "data": {
            "image/png": "[encoded data removed]",
            "text/plain": [
              "<Figure size 600x300 with 1 Axes>"
            ]
          },
          "metadata": {},
          "output_type": "display_data"
        }
      ],
      "source": [
        "fig, ax = plt.subplots(1, 1, figsize=(6,3))\n",
        "plt.errorbar(list(range(2, (len(MAE_dict['TC']))*2 +1, 2)), MAE_dict['TC'], yerr=MAE_dict_std['TC']/2, fmt='.k', ecolor='gray', elinewidth=1.5, capsize=5, capthick=1.5)\n",
        "ax.set_xlabel(nombre_columnas,fontsize=14)\n",
        "ax.set_ylabel('MAE [°C]',fontsize=14)\n",
        "ax.set_ylim((0,2.5))\n",
        "plt.show()"
      ]
    },
    {
      "cell_type": "markdown",
      "metadata": {
        "id": "Vs6ByIRPMOss"
      },
      "source": [
        "#### MAPE"
      ]
    },
    {
      "cell_type": "code",
      "execution_count": 34,
      "metadata": {
        "id": "LsKD1KnlMOss"
      },
      "outputs": [],
      "source": [
        "MAPE_dict = get_MAPE_dict(df_ansys, df_mf, axis=0)\n",
        "MAPE_dict_std = get_MAPE_dict(df_ansys, df_mf, axis=0, std=True)"
      ]
    },
    {
      "cell_type": "markdown",
      "metadata": {
        "id": "YUOhO8bQV5Ep"
      },
      "source": [
        "##### **Velocidad**"
      ]
    },
    {
      "cell_type": "code",
      "execution_count": 35,
      "metadata": {
        "colab": {
          "base_uri": "https://localhost:8080/",
          "height": 321
        },
        "id": "BomMf8PLJvso",
        "outputId": "68e707ae-53e1-4a3e-ef9a-5a47d3d9f8ff"
      },
      "outputs": [
        {
          "data": {
            "image/png": "[encoded data removed]",
            "text/plain": [
              "<Figure size 600x300 with 1 Axes>"
            ]
          },
          "metadata": {},
          "output_type": "display_data"
        }
      ],
      "source": [
        "fig, ax = plt.subplots(1, 1, figsize=(6,3))\n",
        "plt.errorbar(list(range(1, (len(MAPE_dict['V']))*2 +1, 2)), MAPE_dict['V'], yerr=MAPE_dict_std['V']/2, fmt='.k', ecolor='gray', elinewidth=1.5, capsize=5, capthick=1.5)\n",
        "ax.set_xlabel(nombre_columnas,fontsize=14)\n",
        "ax.set_ylabel('MAPE [%]',fontsize=14)\n",
        "ax.set_ylim((0,25))\n",
        "plt.show()"
      ]
    },
    {
      "cell_type": "markdown",
      "metadata": {
        "id": "FJFMJ3W3V5Ep"
      },
      "source": [
        "##### **Presión**"
      ]
    },
    {
      "cell_type": "code",
      "execution_count": 36,
      "metadata": {
        "colab": {
          "base_uri": "https://localhost:8080/",
          "height": 321
        },
        "id": "eL_mdNkTJvsp",
        "outputId": "f43263a7-7cf8-46f1-9db2-e4137d726da5"
      },
      "outputs": [
        {
          "data": {
            "image/png": "[encoded data removed]",
            "text/plain": [
              "<Figure size 600x300 with 1 Axes>"
            ]
          },
          "metadata": {},
          "output_type": "display_data"
        }
      ],
      "source": [
        "fig, ax = plt.subplots(1, 1, figsize=(6,3))\n",
        "plt.errorbar(list(range(1, (len(MAPE_dict['P']))*2 +1, 2)), MAPE_dict['P'], yerr=MAPE_dict_std['P']/2, fmt='.k', ecolor='gray', elinewidth=1.5, capsize=5, capthick=1.5)\n",
        "ax.set_xlabel(nombre_columnas,fontsize=14)\n",
        "ax.set_ylabel('MAPE [%]',fontsize=14)\n",
        "ax.set_ylim((15,100))\n",
        "plt.show()"
      ]
    },
    {
      "cell_type": "markdown",
      "metadata": {
        "id": "NajcUZh5V5Ep"
      },
      "source": [
        "##### **Temperatura de fluido**"
      ]
    },
    {
      "cell_type": "code",
      "execution_count": 37,
      "metadata": {
        "colab": {
          "base_uri": "https://localhost:8080/",
          "height": 321
        },
        "id": "J7m1nAIxJvsq",
        "outputId": "e77720b8-890a-4db2-ba7c-826892b50a45"
      },
      "outputs": [
        {
          "data": {
            "image/png": "[encoded data removed]",
            "text/plain": [
              "<Figure size 600x300 with 1 Axes>"
            ]
          },
          "metadata": {},
          "output_type": "display_data"
        }
      ],
      "source": [
        "fig, ax = plt.subplots(1, 1, figsize=(6,3))\n",
        "plt.errorbar(list(range(1, (len(MAPE_dict['TF']))*2 +1, 2)), MAPE_dict['TF'], yerr=MAPE_dict_std['TF']/2, fmt='.k', ecolor='gray', elinewidth=1.5, capsize=5, capthick=1.5)\n",
        "ax.set_xlabel(nombre_columnas,fontsize=14)\n",
        "ax.set_ylabel('MAPE [%]',fontsize=14)\n",
        "ax.set_ylim((0,3.5))\n",
        "plt.show()"
      ]
    },
    {
      "cell_type": "markdown",
      "metadata": {
        "id": "PERfxZnzV5Ep"
      },
      "source": [
        "##### **Temperatura de celda**"
      ]
    },
    {
      "cell_type": "code",
      "execution_count": 38,
      "metadata": {
        "colab": {
          "base_uri": "https://localhost:8080/",
          "height": 320
        },
        "id": "CQzFGcYBJvsq",
        "outputId": "a4c5eb05-5044-419b-cde4-b4b2362f5f45"
      },
      "outputs": [
        {
          "data": {
            "image/png": "[encoded data removed]",
            "text/plain": [
              "<Figure size 600x300 with 1 Axes>"
            ]
          },
          "metadata": {},
          "output_type": "display_data"
        }
      ],
      "source": [
        "fig, ax = plt.subplots(1, 1, figsize=(6,3))\n",
        "plt.errorbar(list(range(2, (len(MAPE_dict['TC']))*2+1, 2)), MAPE_dict['TC'], yerr=MAPE_dict_std['TC']/2, fmt='.k', ecolor='gray', elinewidth=1.5, capsize=5, capthick=1.5)\n",
        "ax.set_xlabel(nombre_columnas,fontsize=12)\n",
        "ax.set_ylabel('MAPE [%]',fontsize=12)\n",
        "ax.set_ylim((0,5))\n",
        "plt.show()"
      ]
    }
  ],
  "metadata": {
    "colab": {
      "provenance": []
    },
    "kernelspec": {
      "display_name": "Python 3",
      "name": "python3"
    },
    "language_info": {
      "codemirror_mode": {
        "name": "ipython",
        "version": 3
      },
      "file_extension": ".py",
      "mimetype": "text/x-python",
      "name": "python",
      "nbconvert_exporter": "python",
      "pygments_lexer": "ipython3",
      "version": "3.11.4"
    }
  },
  "nbformat": 4,
  "nbformat_minor": 0
}
